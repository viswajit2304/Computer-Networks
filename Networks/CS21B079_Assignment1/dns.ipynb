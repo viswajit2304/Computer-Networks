{
 "cells": [
  {
   "cell_type": "code",
   "execution_count": 36,
   "metadata": {},
   "outputs": [],
   "source": [
    "import nest_asyncio\n",
    "nest_asyncio.apply()\n",
    "\n",
    "def analysis_pack(packet):\n",
    "    x = packet[4]\n",
    "    y = int(x,16)\n",
    "    if y<8:\n",
    "        qr = 0 #query\n",
    "    else:\n",
    "        qr = 1 #response\n",
    "    opcode = (y-8)*2*qr\n",
    "    if int(packet[5],16)>=8:\n",
    "        opcode = opcode + 1\n",
    "    if(opcode>2):\n",
    "        print(\"Invalid data\")\n",
    "        return \n",
    "    if int(packet[6],16) < 8:\n",
    "        z = int(packet[6],16)\n",
    "    else:\n",
    "        z = int(packet[6],16) - 8\n",
    "    rcode = int(packet[7],16)\n",
    "    if rcode > 5:\n",
    "        print(\"Invalid data\")\n",
    "        return\n",
    "    \n",
    "    if packet[8]!='0' or packet[8+1]!='0' or packet[8+2]!='0' or packet[8+3]!='1':\n",
    "        print(\"Invalid data\")\n",
    "        # QDCount\n",
    "        return\n",
    "    \n",
    "    if qr==0:\n",
    "        # query\n",
    "        if packet[12]!='0' or packet[12+1]!='0' or packet[12+2]!='0' or packet[12+3]!='0':\n",
    "            print(\"Invalid data\")\n",
    "            return\n",
    "    elif qr==1:\n",
    "        # responce\n",
    "        if packet[12]!='0' or packet[12+1]!='0' or packet[12+2]!='0' or packet[12+3]!='1':\n",
    "            print(\"Invalid data\")\n",
    "            return\n",
    "    #  ANCount\n",
    "    \n",
    "    if z != 0:\n",
    "        print(\"Invalid data\")\n",
    "        return\n",
    "    ii = 24\n",
    "    domain_name = \"\"\n",
    "    while(int(packet[ii],16)*16 + int(packet[ii+1],16) != 0):\n",
    "        lenght = int(packet[ii],16)*16 + int(packet[ii+1],16)\n",
    "        ii = ii + 2\n",
    "        for ij in range(lenght):\n",
    "            ascii_value = int(packet[ii],16)*16 + int(packet[ii+1],16)\n",
    "            if ((ascii_value>=48) and (ascii_value<=57)) or ((ascii_value>=65) and (ascii_value<=90)) or ((ascii_value>=97) and (ascii_value<=122)):\n",
    "                ii = ii\n",
    "            else:\n",
    "                print(\"Invalid data\")\n",
    "                return\n",
    "            c = chr(ascii_value)\n",
    "            domain_name = domain_name + c\n",
    "            ii = ii + 2\n",
    "        if (int(packet[ii],16)*16 + int(packet[ii+1],16) != 0):\n",
    "            domain_name = domain_name + \".\"\n",
    "    \n",
    "    \n",
    "    # print(domain_name)\n",
    "    if (qr == 1):\n",
    "        # ip address exists\n",
    "        i = ii + 2\n",
    "        i = i + 12\n",
    "        if packet[i]!='0' or packet[i+1]!='0' or packet[i+2]!='0' or packet[i+3]!='1':\n",
    "            print(\"Invalid data\")\n",
    "            # type\n",
    "            return\n",
    "        i = i + 4\n",
    "        if packet[i]!='0' or packet[i+1]!='0' or packet[i+2]!='0' or packet[i+3]!='1':\n",
    "            print(\"Invalid data\")\n",
    "            # class\n",
    "            return\n",
    "        ip_add = \"\"\n",
    "        ii = ii + 34\n",
    "        for ij in range(4):\n",
    "            ascii_value = int(packet[ii],16)*16 + int(packet[ii+1],16)\n",
    "            c = str(ascii_value)\n",
    "            ip_add = ip_add + c\n",
    "            ii = ii + 2\n",
    "            if(ij < 3):\n",
    "                ip_add = ip_add + \".\"\n",
    "        # print(ip_add)\n",
    "        print(f\"Response Packet - Domain Name: {domain_name}, IP Address: {ip_add}\")\n",
    "    elif (qr == 0):\n",
    "        print(f\"Query Packet - Domain Name: {domain_name}\")\n"
   ]
  },
  {
   "cell_type": "code",
   "execution_count": 37,
   "metadata": {},
   "outputs": [
    {
     "name": "stdout",
     "output_type": "stream",
     "text": [
      "Query Packet - Domain Name: timesofindia.indiatimes.com\n",
      "Response Packet - Domain Name: cse.iitm.ac.in, IP Address: 10.6.8.2\n",
      "Invalid Valid\n",
      "Invalid Valid\n",
      "Response Packet - Domain Name: fonts.googleapis.com, IP Address: 142.250.182.74\n"
     ]
    }
   ],
   "source": [
    "packets = [\"4c76010000010000000000010c74696d65736f66696e6469610a696e64696174696d657303636f6d00000100010000290200000000000000\",\n",
    "    \"629f8180000100010000000103637365046969746d02616302696e0000010001c00c0001000100001f9600040a0608020000290200000000000000\",\n",
    "    \"00c88b57ec40ec2e98e9046b08004500004b527e40004011802f0a2a52f10a1800c2e36400350037875137920100000100000000000106636c69656e740764726f70626f7803636f6d00000100010000290200000000000000\",\n",
    "    \"ec2e98e9046b34e894fa3f5e08004500006b030400003e11f7c4c0a80001c0a80068003581c300577fa37baf818000010001000000010f7a2d7034322d696e7374616772616d046331307209696e7374616772616d03636f6d0000010001c00c000100010000000c00049df017ae0000290200000000000000\",\n",
    "    \"a0208180000100010000000105666f6e74730a676f6f676c656170697303636f6d0000010001c00c00010001000000ae00048efab64a0000290200000000000000\"\n",
    "]\n",
    "for p in packets:\n",
    "    analysis_pack(p)"
   ]
  },
  {
   "cell_type": "code",
   "execution_count": 40,
   "metadata": {},
   "outputs": [
    {
     "name": "stdout",
     "output_type": "stream",
     "text": [
      "Query Packet - Domain Name: timesofindia.indiatimes.com\n"
     ]
    }
   ],
   "source": [
    "pack = input(\"hexadecimal packet input :: \")\n",
    "analysis_pack(pack)"
   ]
  }
 ],
 "metadata": {
  "kernelspec": {
   "display_name": "networks",
   "language": "python",
   "name": "python3"
  },
  "language_info": {
   "codemirror_mode": {
    "name": "ipython",
    "version": 3
   },
   "file_extension": ".py",
   "mimetype": "text/x-python",
   "name": "python",
   "nbconvert_exporter": "python",
   "pygments_lexer": "ipython3",
   "version": "3.11.7"
  }
 },
 "nbformat": 4,
 "nbformat_minor": 2
}
